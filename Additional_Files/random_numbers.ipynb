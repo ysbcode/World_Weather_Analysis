{
 "cells": [
  {
   "cell_type": "code",
   "execution_count": 3,
   "id": "1743a3f4",
   "metadata": {},
   "outputs": [],
   "source": [
    "# Import the random module.\n",
    "import random"
   ]
  },
  {
   "cell_type": "code",
   "execution_count": 5,
   "id": "ef6d2c3c",
   "metadata": {},
   "outputs": [
    {
     "data": {
      "text/plain": [
       "-65"
      ]
     },
     "execution_count": 5,
     "metadata": {},
     "output_type": "execute_result"
    }
   ],
   "source": [
    "random.randint(-90, 90)"
   ]
  },
  {
   "cell_type": "code",
   "execution_count": 6,
   "id": "ab878409",
   "metadata": {},
   "outputs": [
    {
     "data": {
      "text/plain": [
       "0.09545054040240675"
      ]
     },
     "execution_count": 6,
     "metadata": {},
     "output_type": "execute_result"
    }
   ],
   "source": [
    "random.random()"
   ]
  },
  {
   "cell_type": "code",
   "execution_count": 8,
   "id": "76fad1bb",
   "metadata": {},
   "outputs": [
    {
     "data": {
      "text/plain": [
       "[-5.333740259024066,\n",
       " 30.27733946930521,\n",
       " -10.728099089749993,\n",
       " 30.534110023179277,\n",
       " 77.98049632274478,\n",
       " -47.03976789111499,\n",
       " -6.955305367680439,\n",
       " -48.167691495127784,\n",
       " 18.399214568073827,\n",
       " -34.55869954769157]"
      ]
     },
     "execution_count": 8,
     "metadata": {},
     "output_type": "execute_result"
    }
   ],
   "source": [
    "x = 1\n",
    "latitudes = []\n",
    "while x < 11:\n",
    "    random_lat = random.randint(-90, 89) + random.random()\n",
    "    latitudes.append(random_lat)\n",
    "    x += 1\n",
    "latitudes"
   ]
  },
  {
   "cell_type": "code",
   "execution_count": 18,
   "id": "d0ff3381",
   "metadata": {},
   "outputs": [
    {
     "data": {
      "text/plain": [
       "61"
      ]
     },
     "execution_count": 18,
     "metadata": {},
     "output_type": "execute_result"
    }
   ],
   "source": [
    "random.randrange(-90, 90, step=1)"
   ]
  },
  {
   "cell_type": "code",
   "execution_count": 19,
   "id": "a67d5f51",
   "metadata": {},
   "outputs": [
    {
     "data": {
      "text/plain": [
       "-45"
      ]
     },
     "execution_count": 19,
     "metadata": {},
     "output_type": "execute_result"
    }
   ],
   "source": [
    "random.randrange(-90, 90, step=3)"
   ]
  },
  {
   "cell_type": "code",
   "execution_count": 20,
   "id": "00731b9c",
   "metadata": {},
   "outputs": [
    {
     "data": {
      "text/plain": [
       "86.70694487403847"
      ]
     },
     "execution_count": 20,
     "metadata": {},
     "output_type": "execute_result"
    }
   ],
   "source": [
    "random.uniform(-90, 90)"
   ]
  },
  {
   "cell_type": "code",
   "execution_count": 21,
   "id": "e5d7c75a",
   "metadata": {},
   "outputs": [],
   "source": [
    "# Import the NumPy module.\n",
    "import numpy as np"
   ]
  },
  {
   "cell_type": "code",
   "execution_count": 22,
   "id": "49f77352",
   "metadata": {},
   "outputs": [
    {
     "data": {
      "text/plain": [
       "-19.56667087656055"
      ]
     },
     "execution_count": 22,
     "metadata": {},
     "output_type": "execute_result"
    }
   ],
   "source": [
    "np.random.uniform(-90.000, 90.000)"
   ]
  },
  {
   "cell_type": "code",
   "execution_count": 23,
   "id": "27e2d05d",
   "metadata": {},
   "outputs": [
    {
     "data": {
      "text/plain": [
       "array([ 1.57815572e+01, -2.58226838e+00, -8.34267510e+01,  4.46667618e+01,\n",
       "       -1.82139805e+01, -3.61841831e+01,  5.65625748e+01,  1.96184777e+01,\n",
       "       -2.99696064e+01, -6.50621026e+01, -5.29194279e+00,  1.69737551e+01,\n",
       "       -5.32039543e+01, -1.89115172e+00, -5.04257253e+01,  1.06953443e+01,\n",
       "        8.69095070e+01, -2.17337263e+01,  3.28914281e+00,  2.28571562e+01,\n",
       "        4.36872555e+01, -5.33957289e+01, -8.13527852e+00,  3.36663989e+01,\n",
       "        6.93426730e+01,  4.99376630e+01,  6.39133153e+01, -1.85379440e+01,\n",
       "        4.32951116e+01,  3.48827043e+01,  4.36157390e+01, -3.22409168e+01,\n",
       "       -7.28920613e+01,  2.95776773e+01,  5.01351552e+01, -5.88047734e+00,\n",
       "        7.07050658e+01,  5.19668951e+01, -1.40344743e+01, -6.00305571e+01,\n",
       "        6.83468917e+01, -5.10861294e+01,  2.18935938e+00, -3.75985179e+01,\n",
       "        6.15647537e+01,  4.50032116e-02, -7.96086213e+01,  5.63499627e-01,\n",
       "       -5.56855772e+01, -6.79899738e+01])"
      ]
     },
     "execution_count": 23,
     "metadata": {},
     "output_type": "execute_result"
    }
   ],
   "source": [
    "np.random.uniform(-90.000, 90.000, size=50)"
   ]
  },
  {
   "cell_type": "code",
   "execution_count": 24,
   "id": "9b60267c",
   "metadata": {},
   "outputs": [],
   "source": [
    "# Import timeit.\n",
    "import timeit"
   ]
  },
  {
   "cell_type": "code",
   "execution_count": 25,
   "id": "2f9ff40b",
   "metadata": {},
   "outputs": [
    {
     "name": "stdout",
     "output_type": "stream",
     "text": [
      "12.2 µs ± 300 ns per loop (mean ± std. dev. of 7 runs, 100000 loops each)\n"
     ]
    }
   ],
   "source": [
    "%timeit np.random.uniform(-90.000, 90.000, size=1500)"
   ]
  },
  {
   "cell_type": "code",
   "execution_count": 26,
   "id": "0c677b2e",
   "metadata": {},
   "outputs": [
    {
     "name": "stdout",
     "output_type": "stream",
     "text": [
      "1.34 ms ± 22.4 µs per loop (mean ± std. dev. of 7 runs, 1000 loops each)\n"
     ]
    }
   ],
   "source": [
    "def latitudes(size):\n",
    "    latitudes = []\n",
    "    x = 0\n",
    "    while x < (size):\n",
    "        random_lat = random.randint(-90, 90) + random.random()\n",
    "        latitudes.append(random_lat)\n",
    "        x += 1\n",
    "    return latitudes\n",
    "# Call the function with 1500.\n",
    "%timeit latitudes(1500)"
   ]
  },
  {
   "cell_type": "code",
   "execution_count": null,
   "id": "5a95d5a0",
   "metadata": {},
   "outputs": [],
   "source": []
  }
 ],
 "metadata": {
  "kernelspec": {
   "display_name": "Python 3",
   "language": "python",
   "name": "python3"
  },
  "language_info": {
   "codemirror_mode": {
    "name": "ipython",
    "version": 3
   },
   "file_extension": ".py",
   "mimetype": "text/x-python",
   "name": "python",
   "nbconvert_exporter": "python",
   "pygments_lexer": "ipython3",
   "version": "3.9.4"
  }
 },
 "nbformat": 4,
 "nbformat_minor": 5
}
